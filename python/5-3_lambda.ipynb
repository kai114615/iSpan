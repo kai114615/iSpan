{
 "cells": [
  {
   "cell_type": "markdown",
   "metadata": {},
   "source": [
    "### lambda 匿名函式  \n",
    "用法  \n",
    "\n",
    "`lambda arguments: expression`"
   ]
  },
  {
   "cell_type": "code",
   "execution_count": 1,
   "metadata": {},
   "outputs": [
    {
     "name": "stdout",
     "output_type": "stream",
     "text": [
      "200\n"
     ]
    }
   ],
   "source": [
    "# 建立函式\n",
    "def times1(x, y):\n",
    "    return x * y\n",
    "\n",
    "print(times1(100, 2))\n"
   ]
  },
  {
   "cell_type": "code",
   "execution_count": 2,
   "metadata": {},
   "outputs": [
    {
     "name": "stdout",
     "output_type": "stream",
     "text": [
      "36\n"
     ]
    }
   ],
   "source": [
    "# 基本用法\n",
    "times1 = lambda x, y: x * y\n",
    "\n",
    "print(times1(3, 12))\n"
   ]
  },
  {
   "cell_type": "code",
   "execution_count": null,
   "metadata": {},
   "outputs": [],
   "source": []
  },
  {
   "cell_type": "code",
   "execution_count": 3,
   "metadata": {},
   "outputs": [
    {
     "name": "stdout",
     "output_type": "stream",
     "text": [
      "True\n"
     ]
    }
   ],
   "source": [
    "# 條件判斷\n",
    "def check_even(x):\n",
    "    if x % 2 == 0:\n",
    "        return True\n",
    "    else:\n",
    "        return False\n",
    "    \n",
    "print(check_even(456))\n"
   ]
  },
  {
   "cell_type": "code",
   "execution_count": 4,
   "metadata": {},
   "outputs": [
    {
     "name": "stdout",
     "output_type": "stream",
     "text": [
      "False\n"
     ]
    }
   ],
   "source": [
    "check_even = lambda x: True if x % 2 == 0 else False\n",
    "\n",
    "print(check_even(37))"
   ]
  },
  {
   "cell_type": "code",
   "execution_count": null,
   "metadata": {},
   "outputs": [],
   "source": [
    "# 多參數\n",
    "\n"
   ]
  },
  {
   "cell_type": "markdown",
   "metadata": {},
   "source": [
    "### 小試身手  \n",
    "請建立一個 list ，並在該 list 內產生多個 `[1, 2, x]` 的 list (x 的值要遞增)  \n",
    "x 到 10 即可  \n",
    "Ex :  \n",
    "```Python\n",
    "[ [1, 2, 1], [1, 2, 2], [1, 2, 3] ]\n",
    "```"
   ]
  },
  {
   "cell_type": "code",
   "execution_count": 15,
   "metadata": {},
   "outputs": [
    {
     "name": "stdout",
     "output_type": "stream",
     "text": [
      "[[1, 2, 1], [1, 2, 2], [1, 2, 3], [1, 2, 4], [1, 2, 5], [1, 2, 6], [1, 2, 7], [1, 2, 8], [1, 2, 9], [1, 2, 10]]\n"
     ]
    }
   ],
   "source": [
    "raise_list = []\n",
    "\n",
    "for x in range(1, 11):\n",
    "    # print([1, 2, x])\n",
    "    raise_list.append([1, 2, x])\n",
    "print(raise_list)"
   ]
  },
  {
   "cell_type": "code",
   "execution_count": 18,
   "metadata": {},
   "outputs": [
    {
     "name": "stdout",
     "output_type": "stream",
     "text": [
      "[[1, 2, 1], [1, 2, 2], [1, 2, 3], [1, 2, 4], [1, 2, 5], [1, 2, 6], [1, 2, 7], [1, 2, 8], [1, 2, 9], [1, 2, 10]]\n"
     ]
    }
   ],
   "source": [
    "raise_list = [[1, 2, x] for x in range(1,11)]\n",
    "print(raise_list)"
   ]
  },
  {
   "cell_type": "code",
   "execution_count": 19,
   "metadata": {},
   "outputs": [
    {
     "name": "stdout",
     "output_type": "stream",
     "text": [
      "[[1, 2, 1], [1, 2, 2], [1, 5, 3], [1, 2, 4], [1, 2, 5], [1, 5, 6], [1, 2, 7], [1, 2, 8], [1, 5, 9], [1, 2, 10]]\n"
     ]
    }
   ],
   "source": [
    "raise_list = []\n",
    "\n",
    "for x in range(1, 11):\n",
    "    if x % 3 != 0:\n",
    "        # print([1, 2, x])\n",
    "        raise_list.append([1, 2, x])\n",
    "    else:\n",
    "        # print([1, 5, x])\n",
    "        raise_list.append([1, 5, x])\n",
    "print(raise_list)\n"
   ]
  },
  {
   "cell_type": "markdown",
   "metadata": {},
   "source": [
    "##### `sort()` 方法"
   ]
  },
  {
   "cell_type": "code",
   "execution_count": null,
   "metadata": {},
   "outputs": [],
   "source": [
    "\n",
    "\n"
   ]
  }
 ],
 "metadata": {
  "kernelspec": {
   "display_name": "Python 3",
   "language": "python",
   "name": "python3"
  },
  "language_info": {
   "codemirror_mode": {
    "name": "ipython",
    "version": 3
   },
   "file_extension": ".py",
   "mimetype": "text/x-python",
   "name": "python",
   "nbconvert_exporter": "python",
   "pygments_lexer": "ipython3",
   "version": "3.12.1"
  }
 },
 "nbformat": 4,
 "nbformat_minor": 2
}
